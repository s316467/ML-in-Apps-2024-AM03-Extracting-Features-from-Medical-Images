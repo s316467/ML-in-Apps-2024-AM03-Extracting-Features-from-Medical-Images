{
  "nbformat": 4,
  "nbformat_minor": 0,
  "metadata": {
    "colab": {
      "provenance": [],
      "collapsed_sections": [
        "JCbOgx54chkw",
        "lxagKvSaMxBh",
        "kAhCrXP9ZtvJ",
        "_fqK8wST3d5e"
      ],
      "toc_visible": true
    },
    "kernelspec": {
      "name": "python3",
      "display_name": "Python 3"
    },
    "language_info": {
      "name": "python"
    },
    "widgets": {
      "application/vnd.jupyter.widget-state+json": {
        "4ba26b81a6cf44459e5da15059426b29": {
          "model_module": "@jupyter-widgets/controls",
          "model_name": "HBoxModel",
          "model_module_version": "1.5.0",
          "state": {
            "_dom_classes": [],
            "_model_module": "@jupyter-widgets/controls",
            "_model_module_version": "1.5.0",
            "_model_name": "HBoxModel",
            "_view_count": null,
            "_view_module": "@jupyter-widgets/controls",
            "_view_module_version": "1.5.0",
            "_view_name": "HBoxView",
            "box_style": "",
            "children": [
              "IPY_MODEL_0ed444d562d441caac8259589e9ed92c",
              "IPY_MODEL_b32d9b8320c444bb9acc4de3fbff858a",
              "IPY_MODEL_8358be6ceb7847f98a426021143dbef5"
            ],
            "layout": "IPY_MODEL_32276f1578c14213b9ac39de721eef96"
          }
        },
        "0ed444d562d441caac8259589e9ed92c": {
          "model_module": "@jupyter-widgets/controls",
          "model_name": "HTMLModel",
          "model_module_version": "1.5.0",
          "state": {
            "_dom_classes": [],
            "_model_module": "@jupyter-widgets/controls",
            "_model_module_version": "1.5.0",
            "_model_name": "HTMLModel",
            "_view_count": null,
            "_view_module": "@jupyter-widgets/controls",
            "_view_module_version": "1.5.0",
            "_view_name": "HTMLView",
            "description": "",
            "description_tooltip": null,
            "layout": "IPY_MODEL_afc9238145f74997a3477b16265d8f9c",
            "placeholder": "​",
            "style": "IPY_MODEL_19a925ffcac94ef5b171717ee610bf49",
            "value": "100%"
          }
        },
        "b32d9b8320c444bb9acc4de3fbff858a": {
          "model_module": "@jupyter-widgets/controls",
          "model_name": "FloatProgressModel",
          "model_module_version": "1.5.0",
          "state": {
            "_dom_classes": [],
            "_model_module": "@jupyter-widgets/controls",
            "_model_module_version": "1.5.0",
            "_model_name": "FloatProgressModel",
            "_view_count": null,
            "_view_module": "@jupyter-widgets/controls",
            "_view_module_version": "1.5.0",
            "_view_name": "ProgressView",
            "bar_style": "success",
            "description": "",
            "description_tooltip": null,
            "layout": "IPY_MODEL_9dd21d1fa86c454a8b6c5dcad7bfff13",
            "max": 892,
            "min": 0,
            "orientation": "horizontal",
            "style": "IPY_MODEL_c50472f4d31945eea9440121304f73c5",
            "value": 892
          }
        },
        "8358be6ceb7847f98a426021143dbef5": {
          "model_module": "@jupyter-widgets/controls",
          "model_name": "HTMLModel",
          "model_module_version": "1.5.0",
          "state": {
            "_dom_classes": [],
            "_model_module": "@jupyter-widgets/controls",
            "_model_module_version": "1.5.0",
            "_model_name": "HTMLModel",
            "_view_count": null,
            "_view_module": "@jupyter-widgets/controls",
            "_view_module_version": "1.5.0",
            "_view_name": "HTMLView",
            "description": "",
            "description_tooltip": null,
            "layout": "IPY_MODEL_432b9449ecb9429bae20ed31fb186d82",
            "placeholder": "​",
            "style": "IPY_MODEL_6d010b6127974ba487bd28fa780e75f8",
            "value": " 892/892 [35:03&lt;00:00,  2.99s/it]"
          }
        },
        "32276f1578c14213b9ac39de721eef96": {
          "model_module": "@jupyter-widgets/base",
          "model_name": "LayoutModel",
          "model_module_version": "1.2.0",
          "state": {
            "_model_module": "@jupyter-widgets/base",
            "_model_module_version": "1.2.0",
            "_model_name": "LayoutModel",
            "_view_count": null,
            "_view_module": "@jupyter-widgets/base",
            "_view_module_version": "1.2.0",
            "_view_name": "LayoutView",
            "align_content": null,
            "align_items": null,
            "align_self": null,
            "border": null,
            "bottom": null,
            "display": null,
            "flex": null,
            "flex_flow": null,
            "grid_area": null,
            "grid_auto_columns": null,
            "grid_auto_flow": null,
            "grid_auto_rows": null,
            "grid_column": null,
            "grid_gap": null,
            "grid_row": null,
            "grid_template_areas": null,
            "grid_template_columns": null,
            "grid_template_rows": null,
            "height": null,
            "justify_content": null,
            "justify_items": null,
            "left": null,
            "margin": null,
            "max_height": null,
            "max_width": null,
            "min_height": null,
            "min_width": null,
            "object_fit": null,
            "object_position": null,
            "order": null,
            "overflow": null,
            "overflow_x": null,
            "overflow_y": null,
            "padding": null,
            "right": null,
            "top": null,
            "visibility": null,
            "width": null
          }
        },
        "afc9238145f74997a3477b16265d8f9c": {
          "model_module": "@jupyter-widgets/base",
          "model_name": "LayoutModel",
          "model_module_version": "1.2.0",
          "state": {
            "_model_module": "@jupyter-widgets/base",
            "_model_module_version": "1.2.0",
            "_model_name": "LayoutModel",
            "_view_count": null,
            "_view_module": "@jupyter-widgets/base",
            "_view_module_version": "1.2.0",
            "_view_name": "LayoutView",
            "align_content": null,
            "align_items": null,
            "align_self": null,
            "border": null,
            "bottom": null,
            "display": null,
            "flex": null,
            "flex_flow": null,
            "grid_area": null,
            "grid_auto_columns": null,
            "grid_auto_flow": null,
            "grid_auto_rows": null,
            "grid_column": null,
            "grid_gap": null,
            "grid_row": null,
            "grid_template_areas": null,
            "grid_template_columns": null,
            "grid_template_rows": null,
            "height": null,
            "justify_content": null,
            "justify_items": null,
            "left": null,
            "margin": null,
            "max_height": null,
            "max_width": null,
            "min_height": null,
            "min_width": null,
            "object_fit": null,
            "object_position": null,
            "order": null,
            "overflow": null,
            "overflow_x": null,
            "overflow_y": null,
            "padding": null,
            "right": null,
            "top": null,
            "visibility": null,
            "width": null
          }
        },
        "19a925ffcac94ef5b171717ee610bf49": {
          "model_module": "@jupyter-widgets/controls",
          "model_name": "DescriptionStyleModel",
          "model_module_version": "1.5.0",
          "state": {
            "_model_module": "@jupyter-widgets/controls",
            "_model_module_version": "1.5.0",
            "_model_name": "DescriptionStyleModel",
            "_view_count": null,
            "_view_module": "@jupyter-widgets/base",
            "_view_module_version": "1.2.0",
            "_view_name": "StyleView",
            "description_width": ""
          }
        },
        "9dd21d1fa86c454a8b6c5dcad7bfff13": {
          "model_module": "@jupyter-widgets/base",
          "model_name": "LayoutModel",
          "model_module_version": "1.2.0",
          "state": {
            "_model_module": "@jupyter-widgets/base",
            "_model_module_version": "1.2.0",
            "_model_name": "LayoutModel",
            "_view_count": null,
            "_view_module": "@jupyter-widgets/base",
            "_view_module_version": "1.2.0",
            "_view_name": "LayoutView",
            "align_content": null,
            "align_items": null,
            "align_self": null,
            "border": null,
            "bottom": null,
            "display": null,
            "flex": null,
            "flex_flow": null,
            "grid_area": null,
            "grid_auto_columns": null,
            "grid_auto_flow": null,
            "grid_auto_rows": null,
            "grid_column": null,
            "grid_gap": null,
            "grid_row": null,
            "grid_template_areas": null,
            "grid_template_columns": null,
            "grid_template_rows": null,
            "height": null,
            "justify_content": null,
            "justify_items": null,
            "left": null,
            "margin": null,
            "max_height": null,
            "max_width": null,
            "min_height": null,
            "min_width": null,
            "object_fit": null,
            "object_position": null,
            "order": null,
            "overflow": null,
            "overflow_x": null,
            "overflow_y": null,
            "padding": null,
            "right": null,
            "top": null,
            "visibility": null,
            "width": null
          }
        },
        "c50472f4d31945eea9440121304f73c5": {
          "model_module": "@jupyter-widgets/controls",
          "model_name": "ProgressStyleModel",
          "model_module_version": "1.5.0",
          "state": {
            "_model_module": "@jupyter-widgets/controls",
            "_model_module_version": "1.5.0",
            "_model_name": "ProgressStyleModel",
            "_view_count": null,
            "_view_module": "@jupyter-widgets/base",
            "_view_module_version": "1.2.0",
            "_view_name": "StyleView",
            "bar_color": null,
            "description_width": ""
          }
        },
        "432b9449ecb9429bae20ed31fb186d82": {
          "model_module": "@jupyter-widgets/base",
          "model_name": "LayoutModel",
          "model_module_version": "1.2.0",
          "state": {
            "_model_module": "@jupyter-widgets/base",
            "_model_module_version": "1.2.0",
            "_model_name": "LayoutModel",
            "_view_count": null,
            "_view_module": "@jupyter-widgets/base",
            "_view_module_version": "1.2.0",
            "_view_name": "LayoutView",
            "align_content": null,
            "align_items": null,
            "align_self": null,
            "border": null,
            "bottom": null,
            "display": null,
            "flex": null,
            "flex_flow": null,
            "grid_area": null,
            "grid_auto_columns": null,
            "grid_auto_flow": null,
            "grid_auto_rows": null,
            "grid_column": null,
            "grid_gap": null,
            "grid_row": null,
            "grid_template_areas": null,
            "grid_template_columns": null,
            "grid_template_rows": null,
            "height": null,
            "justify_content": null,
            "justify_items": null,
            "left": null,
            "margin": null,
            "max_height": null,
            "max_width": null,
            "min_height": null,
            "min_width": null,
            "object_fit": null,
            "object_position": null,
            "order": null,
            "overflow": null,
            "overflow_x": null,
            "overflow_y": null,
            "padding": null,
            "right": null,
            "top": null,
            "visibility": null,
            "width": null
          }
        },
        "6d010b6127974ba487bd28fa780e75f8": {
          "model_module": "@jupyter-widgets/controls",
          "model_name": "DescriptionStyleModel",
          "model_module_version": "1.5.0",
          "state": {
            "_model_module": "@jupyter-widgets/controls",
            "_model_module_version": "1.5.0",
            "_model_name": "DescriptionStyleModel",
            "_view_count": null,
            "_view_module": "@jupyter-widgets/base",
            "_view_module_version": "1.2.0",
            "_view_name": "StyleView",
            "description_width": ""
          }
        }
      }
    }
  },
  "cells": [
    {
      "cell_type": "markdown",
      "source": [
        "# Preliminary steps and imports"
      ],
      "metadata": {
        "id": "JCbOgx54chkw"
      }
    },
    {
      "cell_type": "code",
      "source": [
        "from google.colab import drive\n",
        "drive.mount('/content/drive')"
      ],
      "metadata": {
        "colab": {
          "base_uri": "https://localhost:8080/"
        },
        "id": "ap5niYCzRTDw",
        "outputId": "d1479aa8-3767-4e37-842c-e91bb416c033"
      },
      "execution_count": null,
      "outputs": [
        {
          "output_type": "stream",
          "name": "stdout",
          "text": [
            "Mounted at /content/drive\n"
          ]
        }
      ]
    },
    {
      "cell_type": "code",
      "source": [
        "cd drive/MyDrive/MLinA_project/"
      ],
      "metadata": {
        "id": "vxVmNEp-RdCM",
        "colab": {
          "base_uri": "https://localhost:8080/"
        },
        "outputId": "1f6176b5-20a0-4895-ac3d-8f8459b47c58"
      },
      "execution_count": null,
      "outputs": [
        {
          "output_type": "stream",
          "name": "stdout",
          "text": [
            "/content/drive/MyDrive/MLinA_project\n"
          ]
        }
      ]
    },
    {
      "cell_type": "code",
      "source": [
        "import torch\n",
        "import os\n",
        "from PIL import Image\n",
        "from torch.utils.data import Dataset, DataLoader\n",
        "from torchvision import transforms\n",
        "import re\n",
        "import numpy as np\n",
        "from tqdm.auto import tqdm\n",
        "from torch import cuda"
      ],
      "metadata": {
        "id": "n5JaDEBIO7zM"
      },
      "execution_count": null,
      "outputs": []
    },
    {
      "cell_type": "markdown",
      "source": [
        "# Define function to extract latent embeddings given a model"
      ],
      "metadata": {
        "id": "j153WQ983apZ"
      }
    },
    {
      "cell_type": "code",
      "source": [
        "# extract latent vectors for the entire dataset\n",
        "def extract_latent_vectors(model, dataloader, model_name):\n",
        "    steps = len(dataloader)\n",
        "    progress_bar = tqdm(total = steps)\n",
        "\n",
        "    latent_vectors = []\n",
        "    labels = []\n",
        "    model.eval()\n",
        "    with torch.no_grad():\n",
        "        count = 0\n",
        "        for data,target,_,_ in dataloader:\n",
        "            count += 1\n",
        "            data = data.to(device)\n",
        "            target = target.to(device)\n",
        "            mu, logvar = model.encode(data)\n",
        "            latent_vector = model.reparameterize(mu, logvar)\n",
        "            latent_vectors.append(latent_vector.cpu().numpy())\n",
        "            labels.append(target.cpu().numpy())\n",
        "\n",
        "            if count == 100:#\n",
        "                count = 0#\n",
        "                np.save(f'features_{model_name}.npy', np.concatenate(latent_vectors))\n",
        "                np.save(f'labels_{model_name}.npy', np.concatenate(labels))\n",
        "\n",
        "            progress_bar.update(1)\n",
        "    return np.concatenate(latent_vectors), np.concatenate(labels)"
      ],
      "metadata": {
        "id": "CpCTjX3AgW8Y"
      },
      "execution_count": null,
      "outputs": []
    },
    {
      "cell_type": "markdown",
      "source": [
        "# Dataset creation"
      ],
      "metadata": {
        "id": "lxagKvSaMxBh"
      }
    },
    {
      "cell_type": "code",
      "source": [
        "import dataset_patches\n",
        "from dataset_patches import patchesDataset\n",
        "\n",
        "dataset = patchesDataset(root_dir='patches')\n",
        "dataloader = DataLoader(dataset, batch_size=16, shuffle=False, num_workers=2, pin_memory=True)"
      ],
      "metadata": {
        "id": "zwtppedggiWD"
      },
      "execution_count": null,
      "outputs": []
    },
    {
      "cell_type": "code",
      "source": [
        "# for images, labels, patient_ids, coordinates in dataloader:\n",
        "#     print(images[0].size())  # Tensor shape: (batch_size, channels, height, width)\n",
        "#     print(labels)  # Labels: 0 (no cancer) or 1 (cancer)\n",
        "#     print(patient_ids)  # Patient IDs: 1 to 24\n",
        "#     print(coordinates)  # Coordinates: (x, y) tuples\n",
        "#     break"
      ],
      "metadata": {
        "id": "5lTan-Z0RR_O"
      },
      "execution_count": null,
      "outputs": []
    },
    {
      "cell_type": "markdown",
      "source": [
        "# Basic Variational Autoencoder"
      ],
      "metadata": {
        "id": "kAhCrXP9ZtvJ"
      }
    },
    {
      "cell_type": "markdown",
      "source": [
        "## Network definition"
      ],
      "metadata": {
        "id": "wSfuhwDabtkz"
      }
    },
    {
      "cell_type": "code",
      "source": [
        "import torch\n",
        "import torch.nn as nn\n",
        "import torch.optim as optim\n",
        "from torch.utils.data import DataLoader\n",
        "from torchvision import datasets, transforms\n",
        "from tqdm import tqdm\n",
        "\n",
        "# Device configuration\n",
        "device = torch.device('cuda' if torch.cuda.is_available() else 'cpu')\n",
        "\n",
        "# Define the VAE model\n",
        "class VAE(nn.Module):\n",
        "    def __init__(self, latent_dim):\n",
        "        super(VAE, self).__init__()\n",
        "        self.latent_dim = latent_dim\n",
        "\n",
        "        # Encoder\n",
        "        self.encoder = nn.Sequential(\n",
        "            nn.Conv2d(3, 32, kernel_size=4, stride=2, padding=1),\n",
        "            nn.ReLU(),\n",
        "            nn.Conv2d(32, 64, kernel_size=4, stride=2, padding=1),\n",
        "            nn.ReLU(),\n",
        "            nn.Conv2d(64, 128, kernel_size=4, stride=2, padding=1),\n",
        "            nn.ReLU(),\n",
        "            nn.Conv2d(128, 256, kernel_size=4, stride=2, padding=1),\n",
        "            nn.ReLU(),\n",
        "            nn.Flatten()\n",
        "        )\n",
        "\n",
        "        self.fc_mu = nn.Linear(256*32*32, latent_dim)\n",
        "        self.fc_logvar = nn.Linear(256*32*32, latent_dim)\n",
        "\n",
        "        # Decoder\n",
        "        self.decoder = nn.Sequential(\n",
        "            nn.Linear(latent_dim, 256*32*32),\n",
        "            nn.ReLU(),\n",
        "            nn.Unflatten(1, (256, 32, 32)),\n",
        "            nn.ConvTranspose2d(256, 128, kernel_size=4, stride=2, padding=1),\n",
        "            nn.ReLU(),\n",
        "            nn.ConvTranspose2d(128, 64, kernel_size=4, stride=2, padding=1),\n",
        "            nn.ReLU(),\n",
        "            nn.ConvTranspose2d(64, 32, kernel_size=4, stride=2, padding=1),\n",
        "            nn.ReLU(),\n",
        "            nn.ConvTranspose2d(32, 3, kernel_size=4, stride=2, padding=1),\n",
        "            nn.Sigmoid()\n",
        "        )\n",
        "\n",
        "    def encode(self, x):\n",
        "        x = self.encoder(x)\n",
        "        mu = self.fc_mu(x)\n",
        "        logvar = self.fc_logvar(x)\n",
        "        return mu, logvar\n",
        "\n",
        "    def reparameterize(self, mu, logvar):\n",
        "        std = torch.exp(0.5 * logvar)\n",
        "        eps = torch.randn_like(std)\n",
        "        return mu + eps * std\n",
        "\n",
        "    def decode(self, z):\n",
        "        return self.decoder(z)\n",
        "\n",
        "    def forward(self, x):\n",
        "        mu, logvar = self.encode(x)\n",
        "        z = self.reparameterize(mu, logvar)\n",
        "        return self.decode(z), mu, logvar\n",
        "\n",
        "# Reconstruction + KL divergence losses summed over all elements and batch\n",
        "def loss_function(recon_x, x, mu, logvar):\n",
        "    BCE = nn.functional.binary_cross_entropy(recon_x, x, reduction='sum')\n",
        "    KLD = -0.5 * torch.sum(1 + logvar - mu.pow(2) - logvar.exp())\n",
        "    return BCE + KLD"
      ],
      "metadata": {
        "id": "2kCpu20CZs_P"
      },
      "execution_count": null,
      "outputs": []
    },
    {
      "cell_type": "markdown",
      "source": [
        "## Training"
      ],
      "metadata": {
        "id": "D78jv06QZ4bf"
      }
    },
    {
      "cell_type": "code",
      "source": [
        "# Model, optimizer, and training parameters\n",
        "\n",
        "current_epochs = 0\n",
        "\n",
        "model = VAE(latent_dim=100).to(device)\n",
        "try:\n",
        "  model.load_state_dict(torch.load(f'vae_model_{current_epochs}.pth'))\n",
        "  print('Model loaded correctly!')\n",
        "except:\n",
        "    ...\n",
        "optimizer = optim.Adam(model.parameters(), lr=1e-3)\n",
        "\n",
        "# Training loop\n",
        "num_epochs = 100\n",
        "for epoch in range(num_epochs):\n",
        "    model.train()\n",
        "    total_loss = 0\n",
        "    for batch_idx, (data, _, _, _) in enumerate(tqdm(dataloader, desc=f\"Epoch {epoch+current_epochs+1}/{num_epochs}\")):\n",
        "        data = data.to(device)\n",
        "        optimizer.zero_grad()\n",
        "        recon_batch, mu, logvar = model(data)\n",
        "        loss = loss_function(recon_batch, data, mu, logvar)\n",
        "        loss.backward()\n",
        "        optimizer.step()\n",
        "        total_loss += loss.item()\n",
        "    print(f\"Epoch {epoch+current_epochs+1}/{num_epochs}, Loss: {total_loss / len(dataloader.dataset):.4f}\")\n",
        "    if (epoch+1)%2==0 and epoch>0:\n",
        "        torch.save(model.state_dict(), f'vae_{epoch+current_epochs+1}.pth')\n",
        "\n",
        "# Save the trained model\n",
        "torch.save(model.state_dict(), f'vae_100.pth')"
      ],
      "metadata": {
        "colab": {
          "base_uri": "https://localhost:8080/"
        },
        "id": "2h4YSWkUZ522",
        "outputId": "cd195466-c9ea-4ed3-dc46-2f4a6085e205"
      },
      "execution_count": null,
      "outputs": [
        {
          "output_type": "stream",
          "name": "stderr",
          "text": [
            "Epoch 1/100: 100%|██████████| 510/510 [21:08<00:00,  2.49s/it]\n"
          ]
        },
        {
          "output_type": "stream",
          "name": "stdout",
          "text": [
            "Epoch 1/100, Loss: 472607.2335\n"
          ]
        },
        {
          "output_type": "stream",
          "name": "stderr",
          "text": [
            "Epoch 2/100: 100%|██████████| 510/510 [02:42<00:00,  3.14it/s]\n"
          ]
        },
        {
          "output_type": "stream",
          "name": "stdout",
          "text": [
            "Epoch 2/100, Loss: 460213.8909\n"
          ]
        },
        {
          "output_type": "stream",
          "name": "stderr",
          "text": [
            "Epoch 3/100: 100%|██████████| 510/510 [02:41<00:00,  3.16it/s]\n"
          ]
        },
        {
          "output_type": "stream",
          "name": "stdout",
          "text": [
            "Epoch 3/100, Loss: 456497.6767\n"
          ]
        },
        {
          "output_type": "stream",
          "name": "stderr",
          "text": [
            "Epoch 4/100: 100%|██████████| 510/510 [02:41<00:00,  3.17it/s]\n"
          ]
        },
        {
          "output_type": "stream",
          "name": "stdout",
          "text": [
            "Epoch 4/100, Loss: 455264.1543\n"
          ]
        },
        {
          "output_type": "stream",
          "name": "stderr",
          "text": [
            "Epoch 5/100: 100%|██████████| 510/510 [02:45<00:00,  3.07it/s]\n"
          ]
        },
        {
          "output_type": "stream",
          "name": "stdout",
          "text": [
            "Epoch 5/100, Loss: 453340.5198\n"
          ]
        },
        {
          "output_type": "stream",
          "name": "stderr",
          "text": [
            "Epoch 6/100: 100%|██████████| 510/510 [02:40<00:00,  3.17it/s]\n"
          ]
        },
        {
          "output_type": "stream",
          "name": "stdout",
          "text": [
            "Epoch 6/100, Loss: 452499.7678\n"
          ]
        },
        {
          "output_type": "stream",
          "name": "stderr",
          "text": [
            "Epoch 7/100: 100%|██████████| 510/510 [02:44<00:00,  3.10it/s]\n"
          ]
        },
        {
          "output_type": "stream",
          "name": "stdout",
          "text": [
            "Epoch 7/100, Loss: 451029.2463\n"
          ]
        },
        {
          "output_type": "stream",
          "name": "stderr",
          "text": [
            "Epoch 8/100: 100%|██████████| 510/510 [02:45<00:00,  3.08it/s]\n"
          ]
        },
        {
          "output_type": "stream",
          "name": "stdout",
          "text": [
            "Epoch 8/100, Loss: 450278.6699\n"
          ]
        },
        {
          "output_type": "stream",
          "name": "stderr",
          "text": [
            "Epoch 9/100: 100%|██████████| 510/510 [02:43<00:00,  3.12it/s]\n"
          ]
        },
        {
          "output_type": "stream",
          "name": "stdout",
          "text": [
            "Epoch 9/100, Loss: 449788.7218\n"
          ]
        },
        {
          "output_type": "stream",
          "name": "stderr",
          "text": [
            "Epoch 10/100: 100%|██████████| 510/510 [02:40<00:00,  3.17it/s]\n"
          ]
        },
        {
          "output_type": "stream",
          "name": "stdout",
          "text": [
            "Epoch 10/100, Loss: 448215.9512\n"
          ]
        },
        {
          "output_type": "stream",
          "name": "stderr",
          "text": [
            "Epoch 11/100: 100%|██████████| 510/510 [02:40<00:00,  3.18it/s]\n"
          ]
        },
        {
          "output_type": "stream",
          "name": "stdout",
          "text": [
            "Epoch 11/100, Loss: 448432.1664\n"
          ]
        },
        {
          "output_type": "stream",
          "name": "stderr",
          "text": [
            "Epoch 12/100: 100%|██████████| 510/510 [02:39<00:00,  3.19it/s]\n"
          ]
        },
        {
          "output_type": "stream",
          "name": "stdout",
          "text": [
            "Epoch 12/100, Loss: 446868.9502\n"
          ]
        },
        {
          "output_type": "stream",
          "name": "stderr",
          "text": [
            "Epoch 13/100: 100%|██████████| 510/510 [02:39<00:00,  3.20it/s]\n"
          ]
        },
        {
          "output_type": "stream",
          "name": "stdout",
          "text": [
            "Epoch 13/100, Loss: 446073.9155\n"
          ]
        },
        {
          "output_type": "stream",
          "name": "stderr",
          "text": [
            "Epoch 14/100: 100%|██████████| 510/510 [02:39<00:00,  3.19it/s]\n"
          ]
        },
        {
          "output_type": "stream",
          "name": "stdout",
          "text": [
            "Epoch 14/100, Loss: 443283.4474\n"
          ]
        },
        {
          "output_type": "stream",
          "name": "stderr",
          "text": [
            "Epoch 15/100: 100%|██████████| 510/510 [02:40<00:00,  3.18it/s]\n"
          ]
        },
        {
          "output_type": "stream",
          "name": "stdout",
          "text": [
            "Epoch 15/100, Loss: 441782.3061\n"
          ]
        },
        {
          "output_type": "stream",
          "name": "stderr",
          "text": [
            "Epoch 16/100: 100%|██████████| 510/510 [02:40<00:00,  3.18it/s]\n"
          ]
        },
        {
          "output_type": "stream",
          "name": "stdout",
          "text": [
            "Epoch 16/100, Loss: 441548.8330\n"
          ]
        },
        {
          "output_type": "stream",
          "name": "stderr",
          "text": [
            "Epoch 17/100: 100%|██████████| 510/510 [02:40<00:00,  3.19it/s]\n"
          ]
        },
        {
          "output_type": "stream",
          "name": "stdout",
          "text": [
            "Epoch 17/100, Loss: 440520.4613\n"
          ]
        },
        {
          "output_type": "stream",
          "name": "stderr",
          "text": [
            "Epoch 18/100: 100%|██████████| 510/510 [02:40<00:00,  3.18it/s]\n"
          ]
        },
        {
          "output_type": "stream",
          "name": "stdout",
          "text": [
            "Epoch 18/100, Loss: 439309.6442\n"
          ]
        },
        {
          "output_type": "stream",
          "name": "stderr",
          "text": [
            "Epoch 19/100: 100%|██████████| 510/510 [02:40<00:00,  3.19it/s]\n"
          ]
        },
        {
          "output_type": "stream",
          "name": "stdout",
          "text": [
            "Epoch 19/100, Loss: 439470.5268\n"
          ]
        },
        {
          "output_type": "stream",
          "name": "stderr",
          "text": [
            "Epoch 20/100: 100%|██████████| 510/510 [02:40<00:00,  3.18it/s]\n"
          ]
        },
        {
          "output_type": "stream",
          "name": "stdout",
          "text": [
            "Epoch 20/100, Loss: 438753.5188\n"
          ]
        },
        {
          "output_type": "stream",
          "name": "stderr",
          "text": [
            "Epoch 21/100: 100%|██████████| 510/510 [02:40<00:00,  3.18it/s]\n"
          ]
        },
        {
          "output_type": "stream",
          "name": "stdout",
          "text": [
            "Epoch 21/100, Loss: 437344.1273\n"
          ]
        },
        {
          "output_type": "stream",
          "name": "stderr",
          "text": [
            "Epoch 22/100: 100%|██████████| 510/510 [02:40<00:00,  3.18it/s]\n"
          ]
        },
        {
          "output_type": "stream",
          "name": "stdout",
          "text": [
            "Epoch 22/100, Loss: 436683.6216\n"
          ]
        },
        {
          "output_type": "stream",
          "name": "stderr",
          "text": [
            "Epoch 23/100: 100%|██████████| 510/510 [02:43<00:00,  3.11it/s]\n"
          ]
        },
        {
          "output_type": "stream",
          "name": "stdout",
          "text": [
            "Epoch 23/100, Loss: 436192.5903\n"
          ]
        },
        {
          "output_type": "stream",
          "name": "stderr",
          "text": [
            "Epoch 24/100: 100%|██████████| 510/510 [02:42<00:00,  3.15it/s]\n"
          ]
        },
        {
          "output_type": "stream",
          "name": "stdout",
          "text": [
            "Epoch 24/100, Loss: 436841.1710\n"
          ]
        },
        {
          "output_type": "stream",
          "name": "stderr",
          "text": [
            "Epoch 25/100: 100%|██████████| 510/510 [02:43<00:00,  3.13it/s]\n"
          ]
        },
        {
          "output_type": "stream",
          "name": "stdout",
          "text": [
            "Epoch 25/100, Loss: 436464.5814\n"
          ]
        },
        {
          "output_type": "stream",
          "name": "stderr",
          "text": [
            "Epoch 26/100: 100%|██████████| 510/510 [02:40<00:00,  3.17it/s]\n"
          ]
        },
        {
          "output_type": "stream",
          "name": "stdout",
          "text": [
            "Epoch 26/100, Loss: 435183.0895\n"
          ]
        },
        {
          "output_type": "stream",
          "name": "stderr",
          "text": [
            "Epoch 27/100: 100%|██████████| 510/510 [02:41<00:00,  3.17it/s]\n"
          ]
        },
        {
          "output_type": "stream",
          "name": "stdout",
          "text": [
            "Epoch 27/100, Loss: 434648.6175\n"
          ]
        },
        {
          "output_type": "stream",
          "name": "stderr",
          "text": [
            "Epoch 28/100: 100%|██████████| 510/510 [02:40<00:00,  3.17it/s]\n"
          ]
        },
        {
          "output_type": "stream",
          "name": "stdout",
          "text": [
            "Epoch 28/100, Loss: 434532.0893\n"
          ]
        },
        {
          "output_type": "stream",
          "name": "stderr",
          "text": [
            "Epoch 29/100: 100%|██████████| 510/510 [02:40<00:00,  3.17it/s]\n"
          ]
        },
        {
          "output_type": "stream",
          "name": "stdout",
          "text": [
            "Epoch 29/100, Loss: 434102.9588\n"
          ]
        },
        {
          "output_type": "stream",
          "name": "stderr",
          "text": [
            "Epoch 30/100: 100%|██████████| 510/510 [02:41<00:00,  3.17it/s]\n"
          ]
        },
        {
          "output_type": "stream",
          "name": "stdout",
          "text": [
            "Epoch 30/100, Loss: 434041.5383\n"
          ]
        },
        {
          "output_type": "stream",
          "name": "stderr",
          "text": [
            "Epoch 31/100: 100%|██████████| 510/510 [02:40<00:00,  3.18it/s]\n"
          ]
        },
        {
          "output_type": "stream",
          "name": "stdout",
          "text": [
            "Epoch 31/100, Loss: 433791.0779\n"
          ]
        },
        {
          "output_type": "stream",
          "name": "stderr",
          "text": [
            "Epoch 32/100: 100%|██████████| 510/510 [02:40<00:00,  3.18it/s]\n"
          ]
        },
        {
          "output_type": "stream",
          "name": "stdout",
          "text": [
            "Epoch 32/100, Loss: 433329.2456\n"
          ]
        },
        {
          "output_type": "stream",
          "name": "stderr",
          "text": [
            "Epoch 33/100: 100%|██████████| 510/510 [02:41<00:00,  3.16it/s]\n"
          ]
        },
        {
          "output_type": "stream",
          "name": "stdout",
          "text": [
            "Epoch 33/100, Loss: 432793.3968\n"
          ]
        },
        {
          "output_type": "stream",
          "name": "stderr",
          "text": [
            "Epoch 34/100: 100%|██████████| 510/510 [02:41<00:00,  3.17it/s]\n"
          ]
        },
        {
          "output_type": "stream",
          "name": "stdout",
          "text": [
            "Epoch 34/100, Loss: 432855.1450\n"
          ]
        },
        {
          "output_type": "stream",
          "name": "stderr",
          "text": [
            "Epoch 35/100: 100%|██████████| 510/510 [02:39<00:00,  3.20it/s]\n"
          ]
        },
        {
          "output_type": "stream",
          "name": "stdout",
          "text": [
            "Epoch 35/100, Loss: 432510.2789\n"
          ]
        },
        {
          "output_type": "stream",
          "name": "stderr",
          "text": [
            "Epoch 36/100: 100%|██████████| 510/510 [02:39<00:00,  3.19it/s]\n"
          ]
        },
        {
          "output_type": "stream",
          "name": "stdout",
          "text": [
            "Epoch 36/100, Loss: 432455.7602\n"
          ]
        },
        {
          "output_type": "stream",
          "name": "stderr",
          "text": [
            "Epoch 37/100: 100%|██████████| 510/510 [02:40<00:00,  3.18it/s]\n"
          ]
        },
        {
          "output_type": "stream",
          "name": "stdout",
          "text": [
            "Epoch 37/100, Loss: 432562.0608\n"
          ]
        },
        {
          "output_type": "stream",
          "name": "stderr",
          "text": [
            "Epoch 38/100: 100%|██████████| 510/510 [02:40<00:00,  3.17it/s]\n"
          ]
        },
        {
          "output_type": "stream",
          "name": "stdout",
          "text": [
            "Epoch 38/100, Loss: 432166.7637\n"
          ]
        },
        {
          "output_type": "stream",
          "name": "stderr",
          "text": [
            "Epoch 39/100: 100%|██████████| 510/510 [02:39<00:00,  3.19it/s]\n"
          ]
        },
        {
          "output_type": "stream",
          "name": "stdout",
          "text": [
            "Epoch 39/100, Loss: 431593.6047\n"
          ]
        },
        {
          "output_type": "stream",
          "name": "stderr",
          "text": [
            "Epoch 40/100: 100%|██████████| 510/510 [02:41<00:00,  3.16it/s]\n"
          ]
        },
        {
          "output_type": "stream",
          "name": "stdout",
          "text": [
            "Epoch 40/100, Loss: 431390.8113\n"
          ]
        },
        {
          "output_type": "stream",
          "name": "stderr",
          "text": [
            "Epoch 41/100: 100%|██████████| 510/510 [02:41<00:00,  3.16it/s]\n"
          ]
        },
        {
          "output_type": "stream",
          "name": "stdout",
          "text": [
            "Epoch 41/100, Loss: 431285.5754\n"
          ]
        },
        {
          "output_type": "stream",
          "name": "stderr",
          "text": [
            "Epoch 42/100: 100%|██████████| 510/510 [02:44<00:00,  3.10it/s]\n"
          ]
        },
        {
          "output_type": "stream",
          "name": "stdout",
          "text": [
            "Epoch 42/100, Loss: 431218.5502\n"
          ]
        },
        {
          "output_type": "stream",
          "name": "stderr",
          "text": [
            "Epoch 43/100: 100%|██████████| 510/510 [02:45<00:00,  3.08it/s]\n"
          ]
        },
        {
          "output_type": "stream",
          "name": "stdout",
          "text": [
            "Epoch 43/100, Loss: 431401.4483\n"
          ]
        },
        {
          "output_type": "stream",
          "name": "stderr",
          "text": [
            "Epoch 44/100: 100%|██████████| 510/510 [02:44<00:00,  3.11it/s]\n"
          ]
        },
        {
          "output_type": "stream",
          "name": "stdout",
          "text": [
            "Epoch 44/100, Loss: 431173.2488\n"
          ]
        },
        {
          "output_type": "stream",
          "name": "stderr",
          "text": [
            "Epoch 45/100: 100%|██████████| 510/510 [02:46<00:00,  3.05it/s]\n"
          ]
        },
        {
          "output_type": "stream",
          "name": "stdout",
          "text": [
            "Epoch 45/100, Loss: 430708.3409\n"
          ]
        },
        {
          "output_type": "stream",
          "name": "stderr",
          "text": [
            "Epoch 46/100: 100%|██████████| 510/510 [02:44<00:00,  3.09it/s]\n"
          ]
        },
        {
          "output_type": "stream",
          "name": "stdout",
          "text": [
            "Epoch 46/100, Loss: 430704.2701\n"
          ]
        },
        {
          "output_type": "stream",
          "name": "stderr",
          "text": [
            "Epoch 47/100: 100%|██████████| 510/510 [02:43<00:00,  3.13it/s]\n"
          ]
        },
        {
          "output_type": "stream",
          "name": "stdout",
          "text": [
            "Epoch 47/100, Loss: 430562.0105\n"
          ]
        },
        {
          "output_type": "stream",
          "name": "stderr",
          "text": [
            "Epoch 48/100: 100%|██████████| 510/510 [02:41<00:00,  3.16it/s]\n"
          ]
        },
        {
          "output_type": "stream",
          "name": "stdout",
          "text": [
            "Epoch 48/100, Loss: 430901.6449\n"
          ]
        },
        {
          "output_type": "stream",
          "name": "stderr",
          "text": [
            "Epoch 49/100: 100%|██████████| 510/510 [02:40<00:00,  3.17it/s]\n"
          ]
        },
        {
          "output_type": "stream",
          "name": "stdout",
          "text": [
            "Epoch 49/100, Loss: 431869.3346\n"
          ]
        },
        {
          "output_type": "stream",
          "name": "stderr",
          "text": [
            "Epoch 50/100: 100%|██████████| 510/510 [02:41<00:00,  3.16it/s]\n"
          ]
        },
        {
          "output_type": "stream",
          "name": "stdout",
          "text": [
            "Epoch 50/100, Loss: 430319.5532\n"
          ]
        },
        {
          "output_type": "stream",
          "name": "stderr",
          "text": [
            "Epoch 51/100: 100%|██████████| 510/510 [02:40<00:00,  3.18it/s]\n"
          ]
        },
        {
          "output_type": "stream",
          "name": "stdout",
          "text": [
            "Epoch 51/100, Loss: 429857.6732\n"
          ]
        },
        {
          "output_type": "stream",
          "name": "stderr",
          "text": [
            "Epoch 52/100: 100%|██████████| 510/510 [02:41<00:00,  3.16it/s]\n"
          ]
        },
        {
          "output_type": "stream",
          "name": "stdout",
          "text": [
            "Epoch 52/100, Loss: 429731.8997\n"
          ]
        },
        {
          "output_type": "stream",
          "name": "stderr",
          "text": [
            "Epoch 53/100: 100%|██████████| 510/510 [02:40<00:00,  3.18it/s]\n"
          ]
        },
        {
          "output_type": "stream",
          "name": "stdout",
          "text": [
            "Epoch 53/100, Loss: 429808.7932\n"
          ]
        },
        {
          "output_type": "stream",
          "name": "stderr",
          "text": [
            "Epoch 54/100: 100%|██████████| 510/510 [02:43<00:00,  3.12it/s]\n"
          ]
        },
        {
          "output_type": "stream",
          "name": "stdout",
          "text": [
            "Epoch 54/100, Loss: 429753.8902\n"
          ]
        },
        {
          "output_type": "stream",
          "name": "stderr",
          "text": [
            "Epoch 55/100: 100%|██████████| 510/510 [02:41<00:00,  3.16it/s]\n"
          ]
        },
        {
          "output_type": "stream",
          "name": "stdout",
          "text": [
            "Epoch 55/100, Loss: 429620.9039\n"
          ]
        },
        {
          "output_type": "stream",
          "name": "stderr",
          "text": [
            "Epoch 56/100: 100%|██████████| 510/510 [02:40<00:00,  3.18it/s]\n"
          ]
        },
        {
          "output_type": "stream",
          "name": "stdout",
          "text": [
            "Epoch 56/100, Loss: 429682.7313\n"
          ]
        },
        {
          "output_type": "stream",
          "name": "stderr",
          "text": [
            "Epoch 57/100: 100%|██████████| 510/510 [02:42<00:00,  3.15it/s]\n"
          ]
        },
        {
          "output_type": "stream",
          "name": "stdout",
          "text": [
            "Epoch 57/100, Loss: 430335.2606\n"
          ]
        },
        {
          "output_type": "stream",
          "name": "stderr",
          "text": [
            "Epoch 58/100: 100%|██████████| 510/510 [02:41<00:00,  3.16it/s]\n"
          ]
        },
        {
          "output_type": "stream",
          "name": "stdout",
          "text": [
            "Epoch 58/100, Loss: 429420.3647\n"
          ]
        },
        {
          "output_type": "stream",
          "name": "stderr",
          "text": [
            "Epoch 59/100: 100%|██████████| 510/510 [02:43<00:00,  3.11it/s]\n"
          ]
        },
        {
          "output_type": "stream",
          "name": "stdout",
          "text": [
            "Epoch 59/100, Loss: 429029.4118\n"
          ]
        },
        {
          "output_type": "stream",
          "name": "stderr",
          "text": [
            "Epoch 60/100: 100%|██████████| 510/510 [02:45<00:00,  3.08it/s]\n"
          ]
        },
        {
          "output_type": "stream",
          "name": "stdout",
          "text": [
            "Epoch 60/100, Loss: 429236.6064\n"
          ]
        },
        {
          "output_type": "stream",
          "name": "stderr",
          "text": [
            "Epoch 61/100:  25%|██▌       | 128/510 [00:42<02:11,  2.90it/s]"
          ]
        }
      ]
    },
    {
      "cell_type": "markdown",
      "source": [
        "## Extract and save the features using the basic VAE"
      ],
      "metadata": {
        "id": "JfVtzvHScHgl"
      }
    },
    {
      "cell_type": "code",
      "source": [
        "device = torch.device(\"cuda\" if torch.cuda.is_available() else \"cpu\")\n",
        "model = VAE(100).to(device)\n",
        "model.load_state_dict(torch.load('vae_model_60.pth'))"
      ],
      "metadata": {
        "id": "EzXaX_312Mgb",
        "colab": {
          "base_uri": "https://localhost:8080/"
        },
        "outputId": "abd0f857-376c-4eb5-cb44-17029a8253fd"
      },
      "execution_count": null,
      "outputs": [
        {
          "output_type": "execute_result",
          "data": {
            "text/plain": [
              "<All keys matched successfully>"
            ]
          },
          "metadata": {},
          "execution_count": 20
        }
      ]
    },
    {
      "cell_type": "code",
      "source": [
        "latent_vectors, labels = extract_latent_vectors(model, dataloader, 'vae')"
      ],
      "metadata": {
        "id": "lC_kmV6QPDbn",
        "colab": {
          "base_uri": "https://localhost:8080/",
          "height": 49,
          "referenced_widgets": [
            "4ba26b81a6cf44459e5da15059426b29",
            "0ed444d562d441caac8259589e9ed92c",
            "b32d9b8320c444bb9acc4de3fbff858a",
            "8358be6ceb7847f98a426021143dbef5",
            "32276f1578c14213b9ac39de721eef96",
            "afc9238145f74997a3477b16265d8f9c",
            "19a925ffcac94ef5b171717ee610bf49",
            "9dd21d1fa86c454a8b6c5dcad7bfff13",
            "c50472f4d31945eea9440121304f73c5",
            "432b9449ecb9429bae20ed31fb186d82",
            "6d010b6127974ba487bd28fa780e75f8"
          ]
        },
        "outputId": "e3d9393e-6e1d-4838-c37a-52646ec2c938"
      },
      "execution_count": null,
      "outputs": [
        {
          "output_type": "display_data",
          "data": {
            "text/plain": [
              "  0%|          | 0/892 [00:00<?, ?it/s]"
            ],
            "application/vnd.jupyter.widget-view+json": {
              "version_major": 2,
              "version_minor": 0,
              "model_id": "4ba26b81a6cf44459e5da15059426b29"
            }
          },
          "metadata": {}
        }
      ]
    },
    {
      "cell_type": "code",
      "source": [
        "print(latent_vectors.shape)\n",
        "print(labels.shape)"
      ],
      "metadata": {
        "id": "9Tpy1oNMhfUd",
        "colab": {
          "base_uri": "https://localhost:8080/"
        },
        "outputId": "baa9b7eb-e65e-4f54-8d45-88804d5f7207"
      },
      "execution_count": null,
      "outputs": [
        {
          "output_type": "stream",
          "name": "stdout",
          "text": [
            "(14269, 100)\n",
            "(14269,)\n"
          ]
        }
      ]
    },
    {
      "cell_type": "code",
      "source": [
        "np.save('latent_vectors_vae_final.npy', latent_vectors)\n",
        "np.save('labels_vae_final.npy', labels)\n",
        "import pickle\n",
        "\n",
        "with open('extracted_features.pkl', 'wb') as f:\n",
        "    pickle.dump((latent_vectors, labels), f)\n"
      ],
      "metadata": {
        "id": "1_UNNsj_Thm-"
      },
      "execution_count": null,
      "outputs": []
    },
    {
      "cell_type": "markdown",
      "source": [
        "## Train an SVM model using the basic VAE features\n"
      ],
      "metadata": {
        "id": "_fqK8wST3d5e"
      }
    },
    {
      "cell_type": "code",
      "source": [
        "from sklearn.svm import SVC\n",
        "from sklearn.model_selection import train_test_split\n",
        "from sklearn.metrics import classification_report, accuracy_score\n",
        "\n",
        "# Split the data into training and testing sets\n",
        "X_train, X_test, y_train, y_test = train_test_split(latent_vectors, labels, test_size=0.2, random_state=42)\n",
        "\n",
        "# Initialize and train the SVM classifier\n",
        "svm_classifier = SVC(kernel='linear', C=1.0)\n",
        "svm_classifier.fit(X_train, y_train)\n",
        "\n",
        "# Predict on the test set\n",
        "y_pred = svm_classifier.predict(X_test)\n",
        "\n",
        "# Evaluate the classifier\n",
        "accuracy = accuracy_score(y_test, y_pred)\n",
        "print(\"Accuracy:\", accuracy)\n",
        "print(\"Classification Report:\\n\", classification_report(y_test, y_pred))\n"
      ],
      "metadata": {
        "id": "SeliC-YTgv87",
        "colab": {
          "base_uri": "https://localhost:8080/"
        },
        "outputId": "a963a8b9-ace5-4527-adc1-9552e92ebcfd"
      },
      "execution_count": null,
      "outputs": [
        {
          "output_type": "stream",
          "name": "stdout",
          "text": [
            "Accuracy: 0.7186405045550105\n",
            "Classification Report:\n",
            "               precision    recall  f1-score   support\n",
            "\n",
            "           0       0.73      0.73      0.73      1475\n",
            "           1       0.71      0.71      0.71      1379\n",
            "\n",
            "    accuracy                           0.72      2854\n",
            "   macro avg       0.72      0.72      0.72      2854\n",
            "weighted avg       0.72      0.72      0.72      2854\n",
            "\n"
          ]
        }
      ]
    },
    {
      "cell_type": "markdown",
      "source": [
        "# ResNet based VAE\n",
        "Something similar was used in [CLINICALLY RELEVANT LATENT SPACE EMBEDDING OF CANCER HISTOPATHOLOGY SLIDES THROUGH VARIATIONAL AUTOENCODER BASED IMAGE COMPRESSION](https://arxiv.org/pdf/2303.13332).Its code can be found in [this](https://github.com/jacobluber/uta_cancer_search) github folder but doesn't work anymore because of torch lightning...\n",
        "The specific vae we use was found in [this folder](https://github.com/julianstastny/VAE-ResNet18-PyTorch/blob/master/model.py).\n",
        "With respect to the original vae some changes were applied:\n",
        "1. first of all al the dimensions had to be adjusted to our data\n",
        "2. changed num_blocks from [2,2,2,2] to [1,1,1,1] to reduce the complexity of the network and go from 14.7M parameters to 13.5M\n",
        "3. added max pooling layers before linear layers allows us to reduce the number of parameters from 13.5M to 5.7M"
      ],
      "metadata": {
        "id": "Ux87lklrcM1P"
      }
    },
    {
      "cell_type": "code",
      "source": [
        "import torch\n",
        "from torch import nn\n",
        "import torch.nn.functional as F\n",
        "\n",
        "class ResizeConv2d(nn.Module):\n",
        "    def __init__(self, in_channels, out_channels, kernel_size, scale_factor, mode='nearest'):\n",
        "        super().__init__()\n",
        "        self.scale_factor = scale_factor\n",
        "        self.mode = mode\n",
        "        self.conv = nn.Conv2d(in_channels, out_channels, kernel_size, stride=1, padding=1)\n",
        "\n",
        "    def forward(self, x):\n",
        "        x = nn.functional.interpolate(x, scale_factor=self.scale_factor, mode=self.mode)\n",
        "        x = self.conv(x)\n",
        "        return x\n",
        "\n",
        "class BasicBlockEnc(nn.Module):\n",
        "    def __init__(self, in_planes, out_planes, stride=1):\n",
        "        super().__init__()\n",
        "        self.conv1 = nn.Conv2d(in_planes, out_planes, kernel_size=3, stride=stride, padding=1, bias=False)\n",
        "        self.bn1 = nn.BatchNorm2d(out_planes)\n",
        "        self.conv2 = nn.Conv2d(out_planes, out_planes, kernel_size=3, stride=1, padding=1, bias=False)\n",
        "        self.bn2 = nn.BatchNorm2d(out_planes)\n",
        "\n",
        "        self.shortcut = nn.Sequential()\n",
        "        if stride != 1 or in_planes != out_planes:\n",
        "            self.shortcut = nn.Sequential(\n",
        "                nn.Conv2d(in_planes, out_planes, kernel_size=1, stride=stride, bias=False),\n",
        "                nn.BatchNorm2d(out_planes)\n",
        "            )\n",
        "\n",
        "    def forward(self, x):\n",
        "        out = torch.relu(self.bn1(self.conv1(x)))\n",
        "        out = self.bn2(self.conv2(out))\n",
        "        out += self.shortcut(x)\n",
        "        out = torch.relu(out)\n",
        "        return out\n",
        "\n",
        "class ResNet18Enc(nn.Module):\n",
        "    def __init__(self, num_blocks=[1,1,1,1], z_dim=128, nc=3):\n",
        "        super().__init__()\n",
        "        self.in_planes = 32\n",
        "        self.conv1 = nn.Conv2d(nc, 32, kernel_size=3, stride=2, padding=1, bias=False)\n",
        "        self.bn1 = nn.BatchNorm2d(32)\n",
        "        self.z_dim = z_dim\n",
        "        self.layer1 = self._make_layer(BasicBlockEnc, 16, num_blocks[0], stride=2)\n",
        "        self.layer2 = self._make_layer(BasicBlockEnc, 32, num_blocks[1], stride=2)\n",
        "        self.layer3 = self._make_layer(BasicBlockEnc, 64, num_blocks[2], stride=2)\n",
        "        self.layer4 = self._make_layer(BasicBlockEnc, 128, num_blocks[3], stride=2)\n",
        "        self.maxpool = nn.MaxPool2d(4,4)\n",
        "        self.linear = nn.Linear(128 * 4 * 4, 2 * z_dim)\n",
        "\n",
        "    def _make_layer(self, block, planes, num_blocks, stride):\n",
        "        layers = []\n",
        "        for i in range(num_blocks):\n",
        "            if i == 0:\n",
        "                layers.append(block(self.in_planes, planes, stride))\n",
        "            else:\n",
        "                layers.append(block(planes, planes, 1))\n",
        "            self.in_planes = planes\n",
        "        return nn.Sequential(*layers)\n",
        "\n",
        "    def forward(self, x):\n",
        "        x = torch.relu(self.bn1(self.conv1(x)))\n",
        "        x = self.layer1(x)\n",
        "        x = self.layer2(x)\n",
        "        x = self.layer3(x)\n",
        "        x = self.layer4(x)\n",
        "        x = self.maxpool(x)\n",
        "        x = x.view(x.size(0), -1)\n",
        "        x = self.linear(x)\n",
        "        mu = x[:, :self.z_dim]\n",
        "        logvar = x[:, self.z_dim:]\n",
        "        return mu, logvar\n",
        "\n",
        "class BasicBlockDec(nn.Module):\n",
        "    def __init__(self, in_planes, out_planes, stride=1):\n",
        "        super().__init__()\n",
        "        self.conv2 = nn.Conv2d(in_planes, in_planes, kernel_size=3, stride=1, padding=1, bias=False)\n",
        "        self.bn2 = nn.BatchNorm2d(in_planes)\n",
        "        self.conv1 = ResizeConv2d(in_planes, out_planes, kernel_size=3, scale_factor=stride)\n",
        "        self.bn1 = nn.BatchNorm2d(out_planes)\n",
        "        self.shortcut = nn.Sequential()\n",
        "        if stride != 1 or in_planes != out_planes:\n",
        "            self.shortcut = nn.Sequential(\n",
        "                ResizeConv2d(in_planes, out_planes, kernel_size=1, scale_factor=stride),\n",
        "                nn.BatchNorm2d(out_planes)\n",
        "            )\n",
        "\n",
        "    def forward(self, x):\n",
        "        out = torch.relu(self.bn2(self.conv2(x)))\n",
        "        out = self.bn1(self.conv1(out))\n",
        "        # Adjust shortcut connection to match spatial dimensions\n",
        "        shortcut_x = self.shortcut(x)\n",
        "        if shortcut_x.size(2) != out.size(2) or shortcut_x.size(3) != out.size(3):\n",
        "            shortcut_x = F.interpolate(shortcut_x, size=(out.size(2), out.size(3)), mode='nearest')\n",
        "        out += shortcut_x\n",
        "        out = torch.relu(out)\n",
        "        return out\n",
        "\n",
        "class ResNet18Dec(nn.Module):\n",
        "    def __init__(self, num_blocks=[1,1,1,1], z_dim=128, nc=3):\n",
        "        super().__init__()\n",
        "        self.in_planes = z_dim\n",
        "        self.linear = nn.Linear(z_dim, 128 * 16 * 16)\n",
        "        self.layer4 = self._make_layer(BasicBlockDec, 128, num_blocks[3], stride=2)\n",
        "        self.layer3 = self._make_layer(BasicBlockDec, 64, num_blocks[2], stride=2)\n",
        "        self.layer2 = self._make_layer(BasicBlockDec, 32, num_blocks[1], stride=2)\n",
        "        self.layer1 = self._make_layer(BasicBlockDec, 16, num_blocks[0], stride=2)\n",
        "        self.conv1 = ResizeConv2d(16, nc, kernel_size=3, scale_factor=2)\n",
        "\n",
        "    def _make_layer(self, block, planes, num_blocks, stride):\n",
        "        layers = []\n",
        "        for i in range(num_blocks):\n",
        "            if i == 0:\n",
        "                layers.append(block(self.in_planes, planes, stride))\n",
        "            else:\n",
        "                layers.append(block(planes, planes, 1))\n",
        "            self.in_planes = planes\n",
        "        return nn.Sequential(*layers)\n",
        "\n",
        "    def forward(self, z):\n",
        "        x = self.linear(z)\n",
        "        x = x.view(z.size(0), 128, 16, 16)\n",
        "        x = self.layer4(x)\n",
        "        x = self.layer3(x)\n",
        "        x = self.layer2(x)\n",
        "        x = self.layer1(x)\n",
        "        x = torch.sigmoid(self.conv1(x))\n",
        "        return x\n",
        "\n",
        "class ResVAE(nn.Module):\n",
        "    def __init__(self, z_dim):\n",
        "        super().__init__()\n",
        "        self.encoder = ResNet18Enc(z_dim=z_dim)\n",
        "        self.decoder = ResNet18Dec(z_dim=z_dim)\n",
        "\n",
        "    def encode(self, x):\n",
        "        return self.encoder(x)\n",
        "\n",
        "    def forward(self, x):\n",
        "        mean, logvar = self.encoder(x)\n",
        "        z = self.reparameterize(mean, logvar)\n",
        "        x = self.decoder(z)\n",
        "        return x, mean, logvar\n",
        "\n",
        "    @staticmethod\n",
        "    def reparameterize(mean, logvar):\n",
        "        std = torch.exp(logvar / 2)\n",
        "        epsilon = torch.randn_like(std)\n",
        "        return epsilon * std + mean\n",
        "\n",
        "    def loss_function(self, recon_x, x, mu, logvar):\n",
        "        BCE = nn.functional.binary_cross_entropy(recon_x, x, reduction='sum')\n",
        "        KLD = -0.5 * torch.sum(1 + logvar - mu.pow(2) - logvar.exp())\n",
        "        return BCE + KLD"
      ],
      "metadata": {
        "id": "KAN5SWgbYLvl"
      },
      "execution_count": null,
      "outputs": []
    },
    {
      "cell_type": "code",
      "source": [
        "from torchsummary import summary\n",
        "device = 'cuda' if cuda.is_available() else 'cpu'\n",
        "print(device)\n",
        "model = ResVAE(128).to(device)\n",
        "summary(model, (3,512,512))"
      ],
      "metadata": {
        "colab": {
          "base_uri": "https://localhost:8080/"
        },
        "collapsed": true,
        "id": "uO55wOSYYXhe",
        "outputId": "4b09576e-f4ba-4916-cf10-6da91f7c5b2f"
      },
      "execution_count": null,
      "outputs": [
        {
          "output_type": "stream",
          "name": "stdout",
          "text": [
            "cpu\n",
            "----------------------------------------------------------------\n",
            "        Layer (type)               Output Shape         Param #\n",
            "================================================================\n",
            "            Conv2d-1         [-1, 32, 256, 256]             864\n",
            "       BatchNorm2d-2         [-1, 32, 256, 256]              64\n",
            "            Conv2d-3         [-1, 16, 128, 128]           4,608\n",
            "       BatchNorm2d-4         [-1, 16, 128, 128]              32\n",
            "            Conv2d-5         [-1, 16, 128, 128]           2,304\n",
            "       BatchNorm2d-6         [-1, 16, 128, 128]              32\n",
            "            Conv2d-7         [-1, 16, 128, 128]             512\n",
            "       BatchNorm2d-8         [-1, 16, 128, 128]              32\n",
            "     BasicBlockEnc-9         [-1, 16, 128, 128]               0\n",
            "           Conv2d-10           [-1, 32, 64, 64]           4,608\n",
            "      BatchNorm2d-11           [-1, 32, 64, 64]              64\n",
            "           Conv2d-12           [-1, 32, 64, 64]           9,216\n",
            "      BatchNorm2d-13           [-1, 32, 64, 64]              64\n",
            "           Conv2d-14           [-1, 32, 64, 64]             512\n",
            "      BatchNorm2d-15           [-1, 32, 64, 64]              64\n",
            "    BasicBlockEnc-16           [-1, 32, 64, 64]               0\n",
            "           Conv2d-17           [-1, 64, 32, 32]          18,432\n",
            "      BatchNorm2d-18           [-1, 64, 32, 32]             128\n",
            "           Conv2d-19           [-1, 64, 32, 32]          36,864\n",
            "      BatchNorm2d-20           [-1, 64, 32, 32]             128\n",
            "           Conv2d-21           [-1, 64, 32, 32]           2,048\n",
            "      BatchNorm2d-22           [-1, 64, 32, 32]             128\n",
            "    BasicBlockEnc-23           [-1, 64, 32, 32]               0\n",
            "           Conv2d-24          [-1, 128, 16, 16]          73,728\n",
            "      BatchNorm2d-25          [-1, 128, 16, 16]             256\n",
            "           Conv2d-26          [-1, 128, 16, 16]         147,456\n",
            "      BatchNorm2d-27          [-1, 128, 16, 16]             256\n",
            "           Conv2d-28          [-1, 128, 16, 16]           8,192\n",
            "      BatchNorm2d-29          [-1, 128, 16, 16]             256\n",
            "    BasicBlockEnc-30          [-1, 128, 16, 16]               0\n",
            "        MaxPool2d-31            [-1, 128, 4, 4]               0\n",
            "           Linear-32                  [-1, 256]         524,544\n",
            "      ResNet18Enc-33     [[-1, 128], [-1, 128]]               0\n",
            "           Linear-34                [-1, 32768]       4,227,072\n",
            "           Conv2d-35          [-1, 128, 16, 16]         147,456\n",
            "      BatchNorm2d-36          [-1, 128, 16, 16]             256\n",
            "           Conv2d-37          [-1, 128, 32, 32]         147,584\n",
            "     ResizeConv2d-38          [-1, 128, 32, 32]               0\n",
            "      BatchNorm2d-39          [-1, 128, 32, 32]             256\n",
            "           Conv2d-40          [-1, 128, 34, 34]          16,512\n",
            "     ResizeConv2d-41          [-1, 128, 34, 34]               0\n",
            "      BatchNorm2d-42          [-1, 128, 34, 34]             256\n",
            "    BasicBlockDec-43          [-1, 128, 32, 32]               0\n",
            "           Conv2d-44          [-1, 128, 32, 32]         147,456\n",
            "      BatchNorm2d-45          [-1, 128, 32, 32]             256\n",
            "           Conv2d-46           [-1, 64, 64, 64]          73,792\n",
            "     ResizeConv2d-47           [-1, 64, 64, 64]               0\n",
            "      BatchNorm2d-48           [-1, 64, 64, 64]             128\n",
            "           Conv2d-49           [-1, 64, 66, 66]           8,256\n",
            "     ResizeConv2d-50           [-1, 64, 66, 66]               0\n",
            "      BatchNorm2d-51           [-1, 64, 66, 66]             128\n",
            "    BasicBlockDec-52           [-1, 64, 64, 64]               0\n",
            "           Conv2d-53           [-1, 64, 64, 64]          36,864\n",
            "      BatchNorm2d-54           [-1, 64, 64, 64]             128\n",
            "           Conv2d-55         [-1, 32, 128, 128]          18,464\n",
            "     ResizeConv2d-56         [-1, 32, 128, 128]               0\n",
            "      BatchNorm2d-57         [-1, 32, 128, 128]              64\n",
            "           Conv2d-58         [-1, 32, 130, 130]           2,080\n",
            "     ResizeConv2d-59         [-1, 32, 130, 130]               0\n",
            "      BatchNorm2d-60         [-1, 32, 130, 130]              64\n",
            "    BasicBlockDec-61         [-1, 32, 128, 128]               0\n",
            "           Conv2d-62         [-1, 32, 128, 128]           9,216\n",
            "      BatchNorm2d-63         [-1, 32, 128, 128]              64\n",
            "           Conv2d-64         [-1, 16, 256, 256]           4,624\n",
            "     ResizeConv2d-65         [-1, 16, 256, 256]               0\n",
            "      BatchNorm2d-66         [-1, 16, 256, 256]              32\n",
            "           Conv2d-67         [-1, 16, 258, 258]             528\n",
            "     ResizeConv2d-68         [-1, 16, 258, 258]               0\n",
            "      BatchNorm2d-69         [-1, 16, 258, 258]              32\n",
            "    BasicBlockDec-70         [-1, 16, 256, 256]               0\n",
            "           Conv2d-71          [-1, 3, 512, 512]             435\n",
            "     ResizeConv2d-72          [-1, 3, 512, 512]               0\n",
            "      ResNet18Dec-73          [-1, 3, 512, 512]               0\n",
            "================================================================\n",
            "Total params: 5,677,395\n",
            "Trainable params: 5,677,395\n",
            "Non-trainable params: 0\n",
            "----------------------------------------------------------------\n",
            "Input size (MB): 3.00\n",
            "Forward/backward pass size (MB): 197.41\n",
            "Params size (MB): 21.66\n",
            "Estimated Total Size (MB): 222.07\n",
            "----------------------------------------------------------------\n"
          ]
        }
      ]
    },
    {
      "cell_type": "markdown",
      "source": [
        "## Training"
      ],
      "metadata": {
        "id": "Z5XvsaJzc4-H"
      }
    },
    {
      "cell_type": "code",
      "source": [
        "import torch\n",
        "from torch import optim\n",
        "from torch.utils.data import DataLoader\n",
        "from tqdm import tqdm\n",
        "\n",
        "# Hyperparameters\n",
        "z_dim = 128\n",
        "num_epochs = 10\n",
        "learning_rate = 1e-3\n",
        "checkpoint_path = 'ResVAE_checkpoint.pth'\n",
        "\n",
        "# Initialize model and optimizer\n",
        "device = torch.device('cuda' if torch.cuda.is_available() else 'cpu')\n",
        "model = ResVAE(z_dim=z_dim).to(device)\n",
        "optimizer = optim.Adam(model.parameters(), lr=learning_rate)\n",
        "\n",
        "# Load checkpoint if available\n",
        "start_epoch = 0\n",
        "total_loss = 0\n",
        "\n",
        "try:\n",
        "    checkpoint = torch.load(checkpoint_path)\n",
        "    model.load_state_dict(checkpoint['model_state_dict'])\n",
        "    optimizer.load_state_dict(checkpoint['optimizer_state_dict'])\n",
        "    start_epoch = checkpoint['epoch']\n",
        "    total_loss = checkpoint.get('loss', 0)\n",
        "    print('Model loaded correctly from checkpoint!')\n",
        "except FileNotFoundError:\n",
        "    print('No checkpoint found, starting from scratch.')\n",
        "\n",
        "progress_bar = tqdm(range(len(dataloader)*(num_epochs-start_epoch)))\n",
        "\n",
        "# Training loop\n",
        "for epoch in range(start_epoch, num_epochs):\n",
        "    model.train()\n",
        "    epoch_loss = 0\n",
        "    for data, _, _, _ in dataloader:\n",
        "        data = data.to(device)\n",
        "        optimizer.zero_grad()\n",
        "        recon_batch, mu, logvar = model(data)\n",
        "        loss = model.loss_function(recon_batch, data, mu, logvar)\n",
        "        loss.backward()\n",
        "        optimizer.step()\n",
        "        epoch_loss += loss.item()\n",
        "        progress_bar.update(1)\n",
        "\n",
        "    avg_loss = epoch_loss / len(dataloader.dataset)\n",
        "    print(f\"Epoch {epoch+1}/{num_epochs}, Loss: {avg_loss:.4f}\")\n",
        "\n",
        "    # Save checkpoint every epoch\n",
        "    if (epoch + 1) % 1 == 0:\n",
        "        torch.save({\n",
        "            'epoch': epoch + 1,\n",
        "            'model_state_dict': model.state_dict(),\n",
        "            'optimizer_state_dict': optimizer.state_dict(),\n",
        "            'loss': avg_loss,\n",
        "        }, f'ResVAE_checkpoint.pth')\n",
        "\n",
        "# Close the tqdm progress bar\n",
        "progress_bar.close()\n",
        "\n",
        "# Save the final model\n",
        "torch.save({\n",
        "    'epoch': num_epochs,\n",
        "    'model_state_dict': model.state_dict(),\n",
        "    'optimizer_state_dict': optimizer.state_dict(),\n",
        "    'loss': avg_loss,\n",
        "}, f'ResVAE_{num_epochs}.pth')"
      ],
      "metadata": {
        "colab": {
          "base_uri": "https://localhost:8080/"
        },
        "id": "as6DeyoIfth_",
        "outputId": "2054dadc-43ee-4e32-fa1b-91ff69a22918"
      },
      "execution_count": null,
      "outputs": [
        {
          "output_type": "stream",
          "name": "stdout",
          "text": [
            "No checkpoint found, starting from scratch.\n"
          ]
        },
        {
          "output_type": "stream",
          "name": "stderr",
          "text": [
            "  0%|          | 0/8920 [00:00<?, ?it/s]/usr/local/lib/python3.10/dist-packages/torch/autograd/graph.py:744: UserWarning: Plan failed with a cudnnException: CUDNN_BACKEND_EXECUTION_PLAN_DESCRIPTOR: cudnnFinalize Descriptor Failed cudnn_status: CUDNN_STATUS_NOT_SUPPORTED (Triggered internally at ../aten/src/ATen/native/cudnn/Conv_v8.cpp:919.)\n",
            "  return Variable._execution_engine.run_backward(  # Calls into the C++ engine to run the backward pass\n",
            " 10%|█         | 892/8920 [50:57<7:53:01,  3.54s/it]"
          ]
        },
        {
          "output_type": "stream",
          "name": "stdout",
          "text": [
            "Epoch 1/10, Loss: 453197.6523\n"
          ]
        },
        {
          "output_type": "stream",
          "name": "stderr",
          "text": [
            " 20%|██        | 1784/8920 [57:49<41:18,  2.88it/s]"
          ]
        },
        {
          "output_type": "stream",
          "name": "stdout",
          "text": [
            "Epoch 2/10, Loss: 449137.7002\n"
          ]
        },
        {
          "output_type": "stream",
          "name": "stderr",
          "text": [
            " 30%|███       | 2676/8920 [1:04:42<39:40,  2.62it/s]"
          ]
        },
        {
          "output_type": "stream",
          "name": "stdout",
          "text": [
            "Epoch 3/10, Loss: 447773.0669\n"
          ]
        },
        {
          "output_type": "stream",
          "name": "stderr",
          "text": [
            " 40%|████      | 3568/8920 [1:11:38<36:57,  2.41it/s]"
          ]
        },
        {
          "output_type": "stream",
          "name": "stdout",
          "text": [
            "Epoch 4/10, Loss: 447791.7133\n"
          ]
        },
        {
          "output_type": "stream",
          "name": "stderr",
          "text": [
            " 50%|█████     | 4460/8920 [1:18:43<24:54,  2.98it/s]"
          ]
        },
        {
          "output_type": "stream",
          "name": "stdout",
          "text": [
            "Epoch 5/10, Loss: 446503.5644\n"
          ]
        },
        {
          "output_type": "stream",
          "name": "stderr",
          "text": [
            " 60%|██████    | 5352/8920 [1:25:50<20:52,  2.85it/s]"
          ]
        },
        {
          "output_type": "stream",
          "name": "stdout",
          "text": [
            "Epoch 6/10, Loss: 443056.0729\n"
          ]
        },
        {
          "output_type": "stream",
          "name": "stderr",
          "text": [
            " 70%|███████   | 6244/8920 [1:33:01<17:53,  2.49it/s]"
          ]
        },
        {
          "output_type": "stream",
          "name": "stdout",
          "text": [
            "Epoch 7/10, Loss: 439472.1356\n"
          ]
        },
        {
          "output_type": "stream",
          "name": "stderr",
          "text": [
            " 80%|████████  | 7136/8920 [1:39:55<13:21,  2.23it/s]"
          ]
        },
        {
          "output_type": "stream",
          "name": "stdout",
          "text": [
            "Epoch 8/10, Loss: 473489.0946\n"
          ]
        },
        {
          "output_type": "stream",
          "name": "stderr",
          "text": [
            " 90%|█████████ | 8028/8920 [1:46:57<04:45,  3.12it/s]"
          ]
        },
        {
          "output_type": "stream",
          "name": "stdout",
          "text": [
            "Epoch 9/10, Loss: 442792.9457\n"
          ]
        },
        {
          "output_type": "stream",
          "name": "stderr",
          "text": [
            "100%|██████████| 8920/8920 [1:53:51<00:00,  2.98it/s]"
          ]
        },
        {
          "output_type": "stream",
          "name": "stdout",
          "text": [
            "Epoch 10/10, Loss: 439307.9617\n"
          ]
        },
        {
          "output_type": "stream",
          "name": "stderr",
          "text": [
            "\r100%|██████████| 8920/8920 [1:53:51<00:00,  1.31it/s]\n"
          ]
        }
      ]
    },
    {
      "cell_type": "markdown",
      "source": [
        "## Extract and save the features using ResVAE"
      ],
      "metadata": {
        "id": "oi19PTRW-Tiq"
      }
    },
    {
      "cell_type": "code",
      "source": [
        "device = torch.device(\"cuda\" if torch.cuda.is_available() else \"cpu\")\n",
        "model = ResVAE(128).to(device)\n",
        "model.load_state_dict(torch.load('ResVAE_10.pth')['model_state_dict'])"
      ],
      "metadata": {
        "colab": {
          "base_uri": "https://localhost:8080/"
        },
        "outputId": "b599dd0a-c462-4059-e53a-6b89c938491e",
        "id": "Rd_72E4O-Tiz"
      },
      "execution_count": null,
      "outputs": [
        {
          "output_type": "execute_result",
          "data": {
            "text/plain": [
              "<All keys matched successfully>"
            ]
          },
          "metadata": {},
          "execution_count": 29
        }
      ]
    },
    {
      "cell_type": "code",
      "source": [
        "latent_vectors, labels = extract_latent_vectors(model, dataloader, 'ResVAE')"
      ],
      "metadata": {
        "colab": {
          "base_uri": "https://localhost:8080/"
        },
        "outputId": "09d317a3-d5a2-40da-ac21-40dc8c7490bf",
        "id": "eYWu2hFI-Tiz"
      },
      "execution_count": null,
      "outputs": [
        {
          "output_type": "stream",
          "name": "stderr",
          "text": [
            "100%|██████████| 892/892 [06:30<00:00,  2.29it/s]\n"
          ]
        }
      ]
    },
    {
      "cell_type": "code",
      "source": [
        "print(latent_vectors.shape)\n",
        "print(labels.shape)\n",
        "np.save('features_ResVAE_10.npy', latent_vectors)\n",
        "np.save('labels_ResVAE_10.npy', labels)"
      ],
      "metadata": {
        "colab": {
          "base_uri": "https://localhost:8080/"
        },
        "outputId": "d1d2cd8c-d6f4-4bea-b387-5d04505c14da",
        "id": "i6oM9VXI-Tiz"
      },
      "execution_count": null,
      "outputs": [
        {
          "output_type": "stream",
          "name": "stdout",
          "text": [
            "(14269, 128)\n",
            "(14269,)\n"
          ]
        }
      ]
    },
    {
      "cell_type": "markdown",
      "source": [
        "## Train an SVM model using ResVAE features\n"
      ],
      "metadata": {
        "id": "H7jBDWsrcXqD"
      }
    },
    {
      "cell_type": "code",
      "source": [
        "latent_vectors = np.load('features_ResVAE_10.npy')\n",
        "labels = np.load('labels_ResVAE_10.npy')"
      ],
      "metadata": {
        "id": "43Nf3aJMeVyk"
      },
      "execution_count": null,
      "outputs": []
    },
    {
      "cell_type": "code",
      "source": [
        "latent_vectors.shape"
      ],
      "metadata": {
        "colab": {
          "base_uri": "https://localhost:8080/"
        },
        "id": "rWGrqQDqejTw",
        "outputId": "406dabf5-a3f7-413c-ced0-84cc6047741c"
      },
      "execution_count": null,
      "outputs": [
        {
          "output_type": "execute_result",
          "data": {
            "text/plain": [
              "(14269, 128)"
            ]
          },
          "metadata": {},
          "execution_count": 12
        }
      ]
    },
    {
      "cell_type": "code",
      "source": [
        "from sklearn.svm import SVC\n",
        "from sklearn.model_selection import train_test_split\n",
        "from sklearn.metrics import classification_report, accuracy_score\n",
        "\n",
        "# Split the data into training and testing sets\n",
        "X_train, X_test, y_train, y_test = train_test_split(latent_vectors, labels, test_size=0.2, random_state=42)\n",
        "\n",
        "# Initialize and train the SVM classifier\n",
        "svm_classifier = SVC(kernel='linear', C=1.0)\n",
        "svm_classifier.fit(X_train, y_train)\n",
        "\n",
        "# Predict on the test set\n",
        "y_pred = svm_classifier.predict(X_test)\n",
        "\n",
        "# Evaluate the classifier\n",
        "accuracy = accuracy_score(y_test, y_pred)\n",
        "print(\"Accuracy:\", accuracy)\n",
        "print(\"Classification Report:\\n\", classification_report(y_test, y_pred))\n"
      ],
      "metadata": {
        "colab": {
          "base_uri": "https://localhost:8080/"
        },
        "outputId": "04a7ecc1-c37a-4997-f4d7-587a17bc19db",
        "id": "ZlqH91IlcXqN"
      },
      "execution_count": null,
      "outputs": [
        {
          "output_type": "stream",
          "name": "stdout",
          "text": [
            "Accuracy: 0.7214435879467415\n",
            "Classification Report:\n",
            "               precision    recall  f1-score   support\n",
            "\n",
            "           0       0.73      0.73      0.73      1475\n",
            "           1       0.71      0.72      0.71      1379\n",
            "\n",
            "    accuracy                           0.72      2854\n",
            "   macro avg       0.72      0.72      0.72      2854\n",
            "weighted avg       0.72      0.72      0.72      2854\n",
            "\n"
          ]
        }
      ]
    }
  ]
}
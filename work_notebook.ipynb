{
  "cells": [
    {
      "cell_type": "markdown",
      "metadata": {
        "id": "rdT5fw38r9Q3"
      },
      "source": [
        "# EFMI GIT HANDLING\n",
        "Use this section to handle your git"
      ]
    },
    {
      "cell_type": "code",
      "execution_count": null,
      "metadata": {
        "id": "LfsRKtBusAAK"
      },
      "outputs": [],
      "source": [
        "! git clone https://YOUR_NAME:YOUR_TOKEN/s316467/ML-in-Apps-2024-AM03-Extracting-Features-from-Medical-Images\n",
        "\n",
        "%cd /content/ML-in-Apps-2024-AM03-Extracting-Features-from-Medical-Images/"
      ]
    },
    {
      "cell_type": "code",
      "execution_count": null,
      "metadata": {
        "id": "kWegAtsCs2lO"
      },
      "outputs": [],
      "source": [
        "\n",
        "! git pull\n",
        "#! git status\n",
        "#! git add .\n",
        "#! git commit -m \"Your amazing work\"\n",
        "#! git push origin Your amazing branch"
      ]
    },
    {
      "cell_type": "markdown",
      "metadata": {
        "id": "tpD4WmkVJCRD"
      },
      "source": [
        "# INSTALL PROJECT REQUIREMENTS"
      ]
    },
    {
      "cell_type": "code",
      "execution_count": null,
      "metadata": {
        "id": "CtxGxcV2I9A9"
      },
      "outputs": [],
      "source": [
        "%cd /content/ML-in-Apps-2024-AM03-Extracting-Features-from-Medical-Images/EFMI\n",
        "# Can't install this with pip\n",
        "! apt-get install openslide-tools\n",
        "! pip install -r requirements.txt"
      ]
    },
    {
      "cell_type": "markdown",
      "metadata": {
        "id": "GS8Wuz_J-j4J"
      },
      "source": [
        "# RUN PROJECT TESTS\n",
        "Use the following cells to run specific tests and jobs"
      ]
    },
    {
      "cell_type": "markdown",
      "metadata": {
        "id": "nmGa8v9M-zH8"
      },
      "source": [
        "## Run patch extraction\n"
      ]
    },
    {
      "cell_type": "code",
      "execution_count": null,
      "metadata": {
        "id": "o4uA-fImteho"
      },
      "outputs": [],
      "source": [
        "# Set Permissions\n",
        "!chmod +x ./launch_scripts/extract-patches.sh\n",
        "!sed -i 's/\\r$//' ./launch_scripts/extract-patches.sh\n",
        "\n",
        "# RUN\n",
        "# images_path not_roi_path in_roi_path\n",
        "! ./launch_scripts/extract-patches.sh ./CRC_WSIs/ ./DATA/not_roi_patches ./DATA/in_roi_patches"
      ]
    },
    {
      "cell_type": "markdown",
      "metadata": {
        "id": "vOT3AOPwKE-S"
      },
      "source": [
        "# Use the baseline to extract latents and classify them with the SVM\n",
        "Use this cell extract patch features from a pretrained model. \n",
        "\n",
        "Model availables: resnet50, densenet121\n",
        "\n",
        "Classify the extracted features with the SVM  "
      ]
    },
    {
      "cell_type": "code",
      "execution_count": null,
      "metadata": {
        "id": "JGIVJKijKCkB"
      },
      "outputs": [],
      "source": [
        "# Set Permissions\n",
        "!chmod +x ./launch_scripts/test-baseline.sh\n",
        "!sed -i 's/\\r$//' ./launch_scripts/test-baseline.sh\n",
        "\n",
        "# RUN\n",
        "# ds_root_dir num_images=24 batch_size=8 model=densenet121 latent_dim=128\n",
        "! ./launch_scripts/extract-patches.sh ./DATA/ 1 16 densenet121 128"
      ]
    },
    {
      "cell_type": "markdown",
      "metadata": {
        "id": "mn_x19Ce-2Y_"
      },
      "source": [
        "## Run VAE training and latent tests\n",
        "Use this cell to extract features with the VAE, experiment with latents dimension (128,256...). Classify the latents with the SVM and compare the results with the pretrained resnet50"
      ]
    },
    {
      "cell_type": "code",
      "execution_count": null,
      "metadata": {
        "id": "zWFku9uv-2CG"
      },
      "outputs": [],
      "source": [
        "# Set Permissions\n",
        "!chmod +x ./launch_scripts/test-vae.sh\n",
        "!sed -i 's/\\r$//' ./launch_scripts/test-vae.sh\n",
        "\n",
        "# RUN VAE TEST\n",
        "# dataset_root_dir num_images=24 batch_size=8 latent_dim=100\n",
        "! ./launch_scripts/test-vae.sh ./DATA 1 8 100"
      ]
    }
  ],
  "metadata": {
    "colab": {
      "provenance": []
    },
    "kernelspec": {
      "display_name": "Python 3",
      "name": "python3"
    },
    "language_info": {
      "name": "python"
    }
  },
  "nbformat": 4,
  "nbformat_minor": 0
}

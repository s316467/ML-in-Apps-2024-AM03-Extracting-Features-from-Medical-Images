{
  "cells": [
    {
      "cell_type": "markdown",
      "source": [
        "# EFMI GIT HANDLING\n",
        "Use this section to handle your git"
      ],
      "metadata": {
        "id": "rdT5fw38r9Q3"
      }
    },
    {
      "cell_type": "code",
      "source": [
        "! git clone https://YOUR_NAME:YOUR_TOKEN/s316467/ML-in-Apps-2024-AM03-Extracting-Features-from-Medical-Images\n",
        "\n",
        "%cd /content/ML-in-Apps-2024-AM03-Extracting-Features-from-Medical-Images/EFMI"
      ],
      "metadata": {
        "id": "LfsRKtBusAAK"
      },
      "execution_count": null,
      "outputs": []
    },
    {
      "cell_type": "code",
      "source": [
        "! git pull\n",
        "#! git status\n",
        "#! git add .\n",
        "#! git commit -m \"Your amazing work\"\n",
        "#! git push origin \"Your amazing branch\""
      ],
      "metadata": {
        "id": "kWegAtsCs2lO"
      },
      "execution_count": null,
      "outputs": []
    },
    {
      "cell_type": "markdown",
      "source": [
        "# INSTALL PROJECT REQUIREMENTS"
      ],
      "metadata": {
        "id": "tpD4WmkVJCRD"
      }
    },
    {
      "cell_type": "code",
      "source": [
        "! pip install -r requirements.txt\n",
        "# Can't install this with pip\n",
        "! apt-get install openslide-tools"
      ],
      "metadata": {
        "id": "CtxGxcV2I9A9"
      },
      "execution_count": null,
      "outputs": []
    },
    {
      "cell_type": "markdown",
      "source": [
        "# RUN PROJECT TESTS\n",
        "Use the following cells to run specific tests and jobs"
      ],
      "metadata": {
        "id": "GS8Wuz_J-j4J"
      }
    },
    {
      "cell_type": "markdown",
      "source": [
        "## Run patch extraction\n"
      ],
      "metadata": {
        "id": "nmGa8v9M-zH8"
      }
    },
    {
      "cell_type": "code",
      "source": [
        "# Set Permissions\n",
        "!chmod +x ./launch_scripts/extract-patches.sh\n",
        "!sed -i 's/\\r$//' ./launch_scripts/extract-patches.sh\n",
        "\n",
        "# RUN\n",
        "# images_path not_roi_path in_roi_path\n",
        "! ./launch_scripts/extract-patches.sh ./CRC_WSIs/ ./DATA/not_roi_patches ./DATA/in_roi_patches"
      ],
      "metadata": {
        "id": "o4uA-fImteho"
      },
      "execution_count": null,
      "outputs": []
    },
    {
      "cell_type": "markdown",
      "source": [
        "# Train the baseline and test it with the SVM\n",
        "Use this cell to train an imagenet pretrained resnet on the patched dataset. This will extract features from this network and test them on the SVM  "
      ],
      "metadata": {
        "id": "vOT3AOPwKE-S"
      }
    },
    {
      "cell_type": "code",
      "source": [
        "# TODO"
      ],
      "metadata": {
        "id": "JGIVJKijKCkB"
      },
      "execution_count": null,
      "outputs": []
    },
    {
      "cell_type": "markdown",
      "source": [
        "## Run VAE training and latent tests\n"
      ],
      "metadata": {
        "id": "mn_x19Ce-2Y_"
      }
    },
    {
      "cell_type": "code",
      "source": [
        "# Set Permissions\n",
        "!chmod +x ./launch_scripts/test-vae.sh\n",
        "!sed -i 's/\\r$//' ./launch_scripts/test-vae.sh\n",
        "\n",
        "# RUN VAE TEST\n",
        "# dataset_root_dir num_images=24 batch_size=8 latent_dim=100\n",
        "! ./launch_scripts/test-vae.sh ./DATA 1 8 100"
      ],
      "metadata": {
        "id": "zWFku9uv-2CG"
      },
      "execution_count": null,
      "outputs": []
    }
  ],
  "metadata": {
    "colab": {
      "provenance": []
    },
    "kernelspec": {
      "display_name": "Python 3",
      "name": "python3"
    },
    "language_info": {
      "name": "python"
    }
  },
  "nbformat": 4,
  "nbformat_minor": 0
}
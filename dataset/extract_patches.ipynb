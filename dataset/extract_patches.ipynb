{
  "cells": [
    {
      "cell_type": "code",
      "execution_count": 15,
      "metadata": {
        "id": "PYv5YlYGpO81"
      },
      "outputs": [],
      "source": [
        "! rm -r NC\n",
        "! mkdir NC"
      ]
    },
    {
      "cell_type": "code",
      "execution_count": null,
      "metadata": {
        "id": "EMfa5bbASmcY"
      },
      "outputs": [],
      "source": [
        "!apt-get install openslide-tools\n",
        "!pip install openslide-python\n",
        "\n",
        "\n",
        "from google.colab import drive\n",
        "# Mount Google Drive\n",
        "drive.mount('/content/drive')"
      ]
    },
    {
      "cell_type": "code",
      "execution_count": 5,
      "metadata": {
        "id": "HnlO0_LoTkFp"
      },
      "outputs": [],
      "source": [
        "import os\n",
        "import openslide\n",
        "import xml.etree.cElementTree as ET\n",
        "import numpy as np\n",
        "import matplotlib.pyplot as plt\n",
        "import cv2 as cv"
      ]
    },
    {
      "cell_type": "code",
      "execution_count": 7,
      "metadata": {
        "id": "ihRCJzrMa9qe"
      },
      "outputs": [],
      "source": [
        "# don't know what factor is, defaults to 1\n",
        "def parse_xml(anno_path, factor=1):\n",
        "    tree = ET.ElementTree(file=anno_path)\n",
        "    annolist = []\n",
        "    root = tree.getroot()\n",
        "    for coords in root.iter('Vertices'):\n",
        "        for coord in coords:\n",
        "            x = int(float(coord.attrib.get(\"X\")) / factor)\n",
        "            y = int(float(coord.attrib.get(\"Y\")) / factor)\n",
        "            annolist.append((x, y))\n",
        "    return annolist\n",
        "\n",
        "\n",
        "roi_path = \"./drive/MyDrive/mla/CRC_WSIs/1.xml\"\n",
        "roi_coords = parse_xml(roi_path)"
      ]
    },
    {
      "cell_type": "code",
      "execution_count": 12,
      "metadata": {
        "id": "9UAYnAOipXop"
      },
      "outputs": [],
      "source": [
        "def is_not_white_or_gray(patch, threshold=0.95, gray_threshold=200):\n",
        "    \"\"\"\n",
        "    Check if the patch is not predominantly white or light gray.\n",
        "    \"\"\"\n",
        "    gray = cv.cvtColor(np.array(patch), cv.COLOR_RGB2GRAY)\n",
        "    _, binary = cv.threshold(gray, gray_threshold, 255, cv.THRESH_BINARY)\n",
        "    foreground_pixels = cv.countNonZero(binary)\n",
        "    foreground_ratio = foreground_pixels / (patch.shape[0] * patch.shape[1])\n",
        "    return foreground_ratio < threshold"
      ]
    },
    {
      "cell_type": "code",
      "execution_count": null,
      "metadata": {
        "colab": {
          "base_uri": "https://localhost:8080/"
        },
        "id": "u452sxdmSzVs",
        "outputId": "6e890a0c-d8bb-475f-f136-0689c9788869"
      },
      "outputs": [
        {
          "name": "stdout",
          "output_type": "stream",
          "text": [
            "100720 76803\n"
          ]
        }
      ],
      "source": [
        "import openslide\n",
        "import os\n",
        "\n",
        "\n",
        "# the patch is a square\n",
        "def in_roi(roi_vertices, patch_vertices, patch_size):\n",
        "    p_x, p_y = patch_vertices\n",
        "    br_x, br_y = (patch_vertices[0] + patch_size, patch_vertices[1] + patch_size)\n",
        "\n",
        "    # Check if each ROI vertex is inside the patch area\n",
        "    for roi_vertex in roi_vertices:\n",
        "        if (p_x <= roi_vertex[0] <= br_x and\n",
        "           p_y <= roi_vertex[1] <= br_y):\n",
        "           return True\n",
        "\n",
        "    return False\n",
        "\n",
        "\n",
        "\n",
        "# Function to extract patches from the WSI\n",
        "def extract_patches(image_path, roi_coords, patch_size=2048):\n",
        "\n",
        "    slide = openslide.open_slide(image_path)\n",
        "\n",
        "    mag_level = 0\n",
        "\n",
        "    width, height = slide.level_dimensions[mag_level]\n",
        "\n",
        "    for y in range(0, height - patch_size, patch_size):\n",
        "        for x in range(0, width - patch_size, patch_size):\n",
        "            # add downsample if needed\n",
        "            downsampling_factor = slide.level_downsamples[mag_level]\n",
        "            patch = slide.read_region((int(x * downsampling_factor), int(y * downsampling_factor)), mag_level, (patch_size, patch_size))\n",
        "\n",
        "            if(is_not_white_or_gray(np.array(patch))):\n",
        "              if(in_roi(roi_coords, (x, y), patch_size)):\n",
        "                patch.save(f\"./WC/patch_{x}_{y}.png\")\n",
        "                #test\n",
        "                return\n",
        "              #else:\n",
        "              #  patch.save(f\"./NC/patch_{x}_,{y}.png\")\n",
        "\n",
        "\n",
        "\n",
        "image_path = \"./drive/MyDrive/mla/CRC_WSIs/1.svs\"\n",
        "extract_patches(image_path, roi_coords)\n"
      ]
    }
  ],
  "metadata": {
    "accelerator": "GPU",
    "colab": {
      "gpuType": "T4",
      "machine_shape": "hm",
      "provenance": []
    },
    "kernelspec": {
      "display_name": "Python 3",
      "name": "python3"
    },
    "language_info": {
      "name": "python"
    }
  },
  "nbformat": 4,
  "nbformat_minor": 0
}
